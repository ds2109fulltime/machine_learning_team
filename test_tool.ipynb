{
 "cells": [
  {
   "cell_type": "code",
   "execution_count": 1,
   "metadata": {},
   "outputs": [],
   "source": [
    "import numpy as np\n",
    "import pandas as pd\n",
    "import seaborn as sns\n",
    "import matplotlib.pyplot as plt\n",
    "\n",
    "from tools import print_classif_metrics, print_regress_metrics\n",
    "\n",
    "# Metricas de clasificación\n",
    "from sklearn.linear_model import LogisticRegression\n",
    "from sklearn.linear_model import LinearRegression\n",
    "\n"
   ]
  },
  {
   "cell_type": "code",
   "execution_count": 3,
   "metadata": {},
   "outputs": [
    {
     "name": "stdout",
     "output_type": "stream",
     "text": [
      "Accuracy score: 0.823 %\n",
      "Recall score: 0.796 %\n",
      "Precision score: 0.757 %\n",
      "F1 score: 0.776 %\n",
      "AUC: 0.818 %\n"
     ]
    }
   ],
   "source": [
    "titanic_df = sns.load_dataset('titanic')\n",
    "\n",
    "titanic_df2 = titanic_df.drop(columns=['deck', 'alive']).copy()\n",
    "titanic_df2 = titanic_df2.dropna()\n",
    "titanic_df2 = pd.get_dummies(titanic_df2)\n",
    "\n",
    "lr = LogisticRegression()\n",
    "X = titanic_df2.iloc[:, 1:]\n",
    "y = titanic_df2.iloc[:, 0]\n",
    "\n",
    "lr.fit(X, y)\n",
    "\n",
    "y_pred = lr.predict(X)\n",
    "print_classif_metrics(y, y_pred)"
   ]
  },
  {
   "cell_type": "code",
   "execution_count": 3,
   "metadata": {},
   "outputs": [
    {
     "name": "stdout",
     "output_type": "stream",
     "text": [
      "R^2 score: 0.9128\n",
      "MAE score: 740.476\n",
      "MSE score: 1276866.7661\n",
      "RMSE score: 1129.9853\n",
      "MAPE score: 39.1852 %\n"
     ]
    }
   ],
   "source": [
    "diamonds_df = sns.load_dataset('diamonds')\n",
    "\n",
    "diamonds_df2 = pd.get_dummies(diamonds_df)\n",
    "\n",
    "lr = LinearRegression()\n",
    "X = diamonds_df2.drop(columns = ['price'])\n",
    "y = diamonds_df2['price']\n",
    "\n",
    "lr.fit(X, y)\n",
    "y_pred = lr.predict(X)\n",
    "\n",
    "print_regress_metrics(y, y_pred)"
   ]
  },
  {
   "cell_type": "code",
   "execution_count": null,
   "metadata": {},
   "outputs": [],
   "source": []
  }
 ],
 "metadata": {
  "interpreter": {
   "hash": "e9fe7e7741b3f19bcd135589f0a4246388c4ceff90e79f616981a3065da97231"
  },
  "kernelspec": {
   "display_name": "Python 3.7.4 64-bit ('course-env': venv)",
   "language": "python",
   "name": "python3"
  },
  "language_info": {
   "codemirror_mode": {
    "name": "ipython",
    "version": 3
   },
   "file_extension": ".py",
   "mimetype": "text/x-python",
   "name": "python",
   "nbconvert_exporter": "python",
   "pygments_lexer": "ipython3",
   "version": "3.7.4"
  },
  "orig_nbformat": 4
 },
 "nbformat": 4,
 "nbformat_minor": 2
}
